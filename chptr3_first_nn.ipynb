{
 "cells": [
  {
   "cell_type": "code",
   "execution_count": 15,
   "id": "5efe8da6-5092-41b9-83fe-100b52ce4c3b",
   "metadata": {},
   "outputs": [
    {
     "name": "stdout",
     "output_type": "stream",
     "text": [
      "1.34\n"
     ]
    }
   ],
   "source": [
    "import numpy as np\n",
    "\n",
    "# This is input layer of 1 and outputlaer of 1\n",
    "def neural_network(input, weight):\n",
    "    prediction = inputs.dot(weights)\n",
    "    return prediction\n",
    "\n",
    "# Weights\n",
    "weights = [0.1, 0.2, 0.3] # weights length must equal n inputs\n",
    "\n",
    "\n",
    "# Data\n",
    "toes = np.array([8.5, 9.5, 10, 9])\n",
    "wlrec = np.array([0.65, 0.8, 0.8, 0.99])\n",
    "nfans = np.array([1.2, 1.5, 0.5, 1.0])\n",
    "\n",
    "\n",
    "inputs = np.array([number_of_toes[0], wlrec[0], nfans[0]])\n",
    "pred = neural_network(inputs, weights)\n",
    "\n",
    "print(pred)\n",
    "\n",
    "# See notes\n"
   ]
  },
  {
   "cell_type": "code",
   "execution_count": 19,
   "id": "2fbb6972",
   "metadata": {},
   "outputs": [
    {
     "name": "stdout",
     "output_type": "stream",
     "text": [
      "[0.195, 0.13, 0.5850000000000001]\n"
     ]
    }
   ],
   "source": [
    "## Section 4 of chapter 3 PT 1 - multipl outputs\n",
    "\n",
    "\n",
    "def neural_network(input, weights):\n",
    "    pred = ele_mul(input, weights)\n",
    "    return pred\n",
    "\n",
    "# element wise multiplication\n",
    "def ele_mul(number, vector):\n",
    "    output = [0,0,0]\n",
    "    assert(len(output) == len(vector))\n",
    "    for i in range(len(vector)):\n",
    "        output[i] = number * vector[i]\n",
    "    return output\n",
    "\n",
    "weights = [0.3, 0.2, 0.9]\n",
    "wlrec = [0.65, 0.8, 0.8, 0.9]\n",
    "input = wlrec[0]\n",
    "pred = neural_network(input, weights)\n",
    "print(pred)\n",
    "\n",
    "\n",
    "\n",
    "\n",
    "\n",
    "\n"
   ]
  },
  {
   "cell_type": "code",
   "execution_count": 13,
   "id": "918bc1cc",
   "metadata": {},
   "outputs": [
    {
     "name": "stdout",
     "output_type": "stream",
     "text": [
      "[-0.065, 0.195, 1.495]\n"
     ]
    }
   ],
   "source": [
    "## Section 4 of chapter 3 PT  2 - multipl outputs\n",
    "\n",
    "# inputs  []float\n",
    "# weights [][]float\n",
    "def neural_network(input, weights):\n",
    "    pred = vect_mat_mul(input, weights)\n",
    "    return pred\n",
    "\n",
    "\n",
    "\n",
    "# multiplay a vector by the matrics\n",
    "# return a vector equal insize to the input vector\n",
    "def vect_mat_mul(vector, matrix):\n",
    "    # Initialilise output to the size of the vector\n",
    "    output = [0] * len(matrix[0]) # should may size this to based on matrix, row length    \n",
    "    for i in range(len(vector)):\n",
    "        # weight sum the vector by each row in the matrix and assigned to vector of ouputs\n",
    "        output[i] = w_sum(vector, matrix[i])\n",
    "    return output\n",
    "\n",
    "# weight sum multiplay each item in a by the corresponding item in b\n",
    "# a and b must be the same length\n",
    "# return a single value\n",
    "def w_sum(a, b):\n",
    "    assert(len(a) == len(b))\n",
    "    output = 0\n",
    "    for i in range(len(a)):\n",
    "        output += a[i] * b[i] # some inputs and weights and accumlate output\n",
    "    return output\n",
    "\n",
    "weights = [\n",
    "    [0.1, 0.1, -0.3],\n",
    "    [0.1, 0.2, 0.0],\n",
    "    [0.0, 1.3, 1.0],\n",
    "]\n",
    "toes = [0.65, 0.8, 0.8, 0.9]\n",
    "wlrec = [0.65, 0.8, 0.8, 0.9]\n",
    "nfans = [0.65, 0.8, 0.8, 0.9]\n",
    "\n",
    "input = [wlrec[0], toes[0], nfans[0]]\n",
    "\n",
    "pred = neural_network(input, weights)\n",
    "print(pred)\n"
   ]
  },
  {
   "cell_type": "code",
   "execution_count": 14,
   "id": "cb79982c",
   "metadata": {},
   "outputs": [
    {
     "name": "stdout",
     "output_type": "stream",
     "text": [
      "[-0.4355, 0.03250000000000001, 1.7485000000000002]\n"
     ]
    }
   ],
   "source": [
    "## Section 4 of chapter 3 PT  3 - hidden layers\n",
    "\n",
    "# inputs  []float\n",
    "# weights [][]float\n",
    "def neural_network(input, weights):\n",
    "    hiddenPred = vect_mat_mul(input, weights[0])   \n",
    "    pred = vect_mat_mul(hiddenPred, weights[1])\n",
    "    return pred\n",
    "\n",
    "\n",
    "\n",
    "# multiplay a vector by the matrics\n",
    "# return a vector equal insize to the input vector\n",
    "def vect_mat_mul(vector, matrix):\n",
    "    # Initialilise output to the size of the vector\n",
    "    output = [0] * len(matrix[0]) # should may size this to based on matrix, row length    \n",
    "    for i in range(len(vector)):\n",
    "        # weight sum the vector by each row in the matrix and assigned to vector of ouputs\n",
    "        output[i] = w_sum(vector, matrix[i])\n",
    "    return output\n",
    "\n",
    "# weight sum multiplay each item in a by the corresponding item in b\n",
    "# a and b must be the same length\n",
    "# return a single value\n",
    "def w_sum(a, b):\n",
    "    assert(len(a) == len(b))\n",
    "    output = 0\n",
    "    for i in range(len(a)):\n",
    "        output += a[i] * b[i] # some inputs and weights and accumlate output\n",
    "    return output\n",
    "\n",
    "input_weights = [\n",
    "    [0.1, 0.1, -0.3],\n",
    "    [0.1, 0.2, 0.0],\n",
    "    [0.0, 1.3, 1.0],\n",
    "]\n",
    "\n",
    "hidden_layer_weights = [\n",
    "    [0.1, 0.1, -0.3],\n",
    "    [0.1, 0.2, 0.0],\n",
    "    [0.0, 1.3, 1.0],\n",
    "]\n",
    "\n",
    "weights = [input_weights, hidden_layer_weights]\n",
    "\n",
    "toes = [0.65, 0.8, 0.8, 0.9]\n",
    "wlrec = [0.65, 0.8, 0.8, 0.9]\n",
    "nfans = [0.65, 0.8, 0.8, 0.9]\n",
    "\n",
    "input = [wlrec[0], toes[0], nfans[0]]\n",
    "\n",
    "pred = neural_network(input, weights)\n",
    "print(pred)\n"
   ]
  },
  {
   "cell_type": "code",
   "execution_count": 17,
   "id": "ac191ac2",
   "metadata": {},
   "outputs": [
    {
     "name": "stdout",
     "output_type": "stream",
     "text": [
      "a [0 1 2 3]\n",
      "b [[0 1 2 3]\n",
      " [4 5 6 7]]\n",
      "c [[0. 0. 0. 0.]\n",
      " [0. 0. 0. 0.]]\n",
      "d [[0.58203109 0.72504855 0.12901726 0.41616927 0.47311169]\n",
      " [0.10526785 0.43357345 0.47779739 0.4216653  0.35104361]]\n"
     ]
    }
   ],
   "source": [
    "# Using Numpy\n",
    "\n",
    "import numpy as np\n",
    "\n",
    "\n",
    "a = np.array([0,1,2,3]) # create a vector\n",
    "b = np.array([[0,1,2,3], [4,5,6,7]]) # create a matrix\n",
    "c = np.zeros((2,4)) # 2 x 4 matrix of zeros\n",
    "d = np.random.rand(2,5) # 2 x 5 matrixs of values between 0 - 1\n",
    "\n",
    "print(\"a\", a)\n",
    "print(\"b\", b)\n",
    "print(\"c\", c)\n",
    "print(\"d\", d)"
   ]
  },
  {
   "cell_type": "code",
   "execution_count": 27,
   "id": "0daafe6d",
   "metadata": {},
   "outputs": [
    {
     "name": "stdout",
     "output_type": "stream",
     "text": [
      "[0.  0.1 0.2 0.3]\n",
      "---\n",
      "[[0.  0.1 0.2 0.3]\n",
      " [0.4 0.5 0.6 0.7]]\n",
      "----\n",
      "[ 0  5 12 21]\n",
      "-----\n",
      "[[ 0  1  4  9]\n",
      " [ 0  5 12 21]]\n"
     ]
    }
   ],
   "source": [
    "# Functions with np\n",
    "# numpy automatically detects the types its using and tries to resolve the calculat\n",
    "\n",
    "aMuliplied = a * 0.1 # numpy will do an vecor scaling calculation\n",
    "print(aMuliplied)\n",
    "\n",
    "\n",
    "print(\"---\")\n",
    "# The same is applied to a matrix\n",
    "bMuliplied = b * 0.1 # matrix scaling\n",
    "print(  bMuliplied)\n",
    "\n",
    "print(\"----\")\n",
    "# Element wise multiplaction occurs when you multiple 2 vectors\n",
    "a2 = np.array([4,5,6,7])\n",
    "print(a * a2)\n",
    "\n",
    "\n",
    "print(\"-----\")\n",
    "# element wise vector multiplation with a vector and matric\n",
    "# This can be a tricky one to reason about, its does a * b[i] \n",
    "print(a * b)\n",
    "\n",
    "\n",
    "# The shape must be the same or an error is thrown\n",
    "\n",
    "\n",
    "\n"
   ]
  },
  {
   "cell_type": "code",
   "execution_count": 31,
   "id": "7bb4f492",
   "metadata": {},
   "outputs": [
    {
     "name": "stdout",
     "output_type": "stream",
     "text": [
      "[[0. 0. 0. 0.]]\n",
      "---\n",
      "[[0. 0. 0.]\n",
      " [0. 0. 0.]\n",
      " [0. 0. 0.]\n",
      " [0. 0. 0.]]\n",
      "----\n",
      "(1, 3)\n",
      "[[0. 0. 0.]]\n"
     ]
    }
   ],
   "source": [
    "# Dot Product\n",
    "# A weighted sum in np\n",
    "\n",
    "\n",
    "x = np.zeros((1, 4))\n",
    "y = np.zeros((4, 3))\n",
    "z = x.dot(y)\n",
    "\n",
    "print(x)\n",
    "print(\"---\")\n",
    "print(y)\n",
    "print(\"----\")\n",
    "print(z.shape)\n",
    "print(z)\n",
    "\n",
    "\n",
    "# It is important the neighouring matrixes match, (1,4)(4,3)"
   ]
  },
  {
   "cell_type": "code",
   "execution_count": 33,
   "id": "f7d1e838",
   "metadata": {},
   "outputs": [
    {
     "name": "stdout",
     "output_type": "stream",
     "text": [
      "[0.117  0.8125 0.416 ]\n"
     ]
    }
   ],
   "source": [
    "# NN with numpy\n",
    "import numpy as np\n",
    "# inputs  []float\n",
    "# weights [][]float\n",
    "def neural_network(input, weights):\n",
    "    hiddenPred = input.dot(weights[0])   \n",
    "    pred = hiddenPred.dot(weights[1])\n",
    "    return pred\n",
    "\n",
    "\n",
    "input_weights = np.array([\n",
    "    [0.1, 0.1, -0.3],\n",
    "    [0.1, 0.2, 0.0],\n",
    "    [0.0, 1.3, 1.0],\n",
    "])\n",
    "\n",
    "hidden_layer_weights = np.array([\n",
    "    [0.1, 0.1, -0.3],\n",
    "    [0.1, 0.2, 0.0],\n",
    "    [0.0, 1.3, 1.0],\n",
    "])\n",
    "\n",
    "weights = np.array([input_weights, hidden_layer_weights])\n",
    "\n",
    "toes = np.array([0.65, 0.8, 0.8, 0.9])\n",
    "wlrec = np.array([0.65, 0.8, 0.8, 0.9])\n",
    "nfans = np.array([0.65, 0.8, 0.8, 0.9])\n",
    "\n",
    "input = np.array([wlrec[0], toes[0], nfans[0]])\n",
    "\n",
    "pred = neural_network(input, weights)\n",
    "print(pred)\n"
   ]
  },
  {
   "cell_type": "code",
   "execution_count": null,
   "id": "bd149da2",
   "metadata": {},
   "outputs": [],
   "source": []
  }
 ],
 "metadata": {
  "kernelspec": {
   "display_name": "Python 3 (ipykernel)",
   "language": "python",
   "name": "python3"
  },
  "language_info": {
   "codemirror_mode": {
    "name": "ipython",
    "version": 3
   },
   "file_extension": ".py",
   "mimetype": "text/x-python",
   "name": "python",
   "nbconvert_exporter": "python",
   "pygments_lexer": "ipython3",
   "version": "3.10.9"
  }
 },
 "nbformat": 4,
 "nbformat_minor": 5
}
